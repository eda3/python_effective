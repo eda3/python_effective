{
 "cells": [
  {
   "cell_type": "code",
   "execution_count": 1,
   "metadata": {},
   "outputs": [],
   "source": [
    "import logging"
   ]
  },
  {
   "cell_type": "code",
   "execution_count": 2,
   "metadata": {},
   "outputs": [],
   "source": [
    "def 関数():\n",
    "    logging.debug(\"デバッグ\")\n",
    "    logging.error(\"エラー\")\n",
    "    logging.debug(\"更にデバッグ\")\n",
    "    print(\"\")"
   ]
  },
  {
   "cell_type": "code",
   "execution_count": 3,
   "metadata": {},
   "outputs": [
    {
     "name": "stderr",
     "output_type": "stream",
     "text": [
      "ERROR:root:エラー\n"
     ]
    },
    {
     "name": "stdout",
     "output_type": "stream",
     "text": [
      "\n"
     ]
    }
   ],
   "source": [
    "# ロギングのデフォルトのレベルはWARNINGなので、エラーのみ出てくる\n",
    "関数()"
   ]
  },
  {
   "cell_type": "code",
   "execution_count": 4,
   "metadata": {},
   "outputs": [],
   "source": [
    "from contextlib import contextmanager\n",
    "from logging import getLogger\n",
    "@contextmanager\n",
    "def デバッグ_ロギング(レベル):\n",
    "    ロガー = getLogger()\n",
    "    古いレベル = ロガー.getEffectiveLevel()\n",
    "    ロガー.setLevel(レベル)\n",
    "    try:\n",
    "        yield\n",
    "    finally:\n",
    "        ロガー.setLevel(古いレベル)\n",
    "    "
   ]
  },
  {
   "cell_type": "code",
   "execution_count": 5,
   "metadata": {},
   "outputs": [
    {
     "name": "stderr",
     "output_type": "stream",
     "text": [
      "DEBUG:root:デバッグ\n",
      "ERROR:root:エラー\n",
      "DEBUG:root:更にデバッグ\n",
      "ERROR:root:エラー\n"
     ]
    },
    {
     "name": "stdout",
     "output_type": "stream",
     "text": [
      "inside\n",
      "\n",
      "after\n",
      "\n"
     ]
    }
   ],
   "source": [
    "with デバッグ_ロギング(logging.DEBUG):\n",
    "    print(\"inside\")\n",
    "    関数()\n",
    "print(\"after\")\n",
    "関数()"
   ]
  },
  {
   "cell_type": "code",
   "execution_count": 6,
   "metadata": {},
   "outputs": [],
   "source": [
    "@contextmanager\n",
    "def ログレベル(レベル, 名前):\n",
    "    ロガー = logging.getLogger(名前)\n",
    "    古いレベル = ロガー.getEffectiveLevel()\n",
    "    ロガー.setLevel(レベル)\n",
    "    try:\n",
    "        yield ロガー\n",
    "    finally:\n",
    "        ロガー.setLevel(古いレベル)"
   ]
  },
  {
   "cell_type": "code",
   "execution_count": 7,
   "metadata": {},
   "outputs": [
    {
     "name": "stderr",
     "output_type": "stream",
     "text": [
      "DEBUG:my-log:ロガー.debug\n"
     ]
    },
    {
     "name": "stdout",
     "output_type": "stream",
     "text": [
      "<Logger my-log (DEBUG)>\n"
     ]
    }
   ],
   "source": [
    "with ログレベル(logging.DEBUG, \"my-log\") as ロガー:\n",
    "    print(ロガー)\n",
    "    ロガー.debug(\"ロガー.debug\")\n",
    "    logging.debug(\"logging.debug\")"
   ]
  },
  {
   "cell_type": "code",
   "execution_count": 8,
   "metadata": {},
   "outputs": [
    {
     "data": {
      "text/plain": [
       "<contextlib._GeneratorContextManager at 0x29227133978>"
      ]
     },
     "execution_count": 8,
     "metadata": {},
     "output_type": "execute_result"
    }
   ],
   "source": [
    "# with文の外だと表示されない\n",
    "ログレベル(logging.DEBUG, \"my-log\")"
   ]
  },
  {
   "cell_type": "code",
   "execution_count": null,
   "metadata": {},
   "outputs": [],
   "source": []
  }
 ],
 "metadata": {
  "kernelspec": {
   "display_name": "Python 3",
   "language": "python",
   "name": "python3"
  },
  "language_info": {
   "codemirror_mode": {
    "name": "ipython",
    "version": 3
   },
   "file_extension": ".py",
   "mimetype": "text/x-python",
   "name": "python",
   "nbconvert_exporter": "python",
   "pygments_lexer": "ipython3",
   "version": "3.7.2"
  }
 },
 "nbformat": 4,
 "nbformat_minor": 4
}

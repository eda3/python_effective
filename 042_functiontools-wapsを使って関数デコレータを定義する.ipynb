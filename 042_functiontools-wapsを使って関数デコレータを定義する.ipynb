{
 "cells": [
  {
   "cell_type": "code",
   "execution_count": 1,
   "metadata": {},
   "outputs": [],
   "source": [
    "def トレース(関数):\n",
    "    def ラッパー(*args, **kwargs):\n",
    "        結果 = 関数(*args, **kwargs)\n",
    "        print(f\"{関数.__name__, args, kwargs, 結果}\")\n",
    "        return 結果\n",
    "    return ラッパー\n"
   ]
  },
  {
   "cell_type": "code",
   "execution_count": 2,
   "metadata": {},
   "outputs": [],
   "source": [
    "@トレース\n",
    "def フィボナッチ(n):\n",
    "    if n in (0, 1):\n",
    "        return n\n",
    "    return (フィボナッチ(n - 2 ) + フィボナッチ(n - 1))\n"
   ]
  },
  {
   "cell_type": "code",
   "execution_count": 3,
   "metadata": {},
   "outputs": [
    {
     "name": "stdout",
     "output_type": "stream",
     "text": [
      "('フィボナッチ', (1,), {}, 1)\n",
      "('フィボナッチ', (0,), {}, 0)\n",
      "('フィボナッチ', (1,), {}, 1)\n",
      "('フィボナッチ', (2,), {}, 1)\n",
      "('フィボナッチ', (3,), {}, 2)\n"
     ]
    },
    {
     "data": {
      "text/plain": [
       "2"
      ]
     },
     "execution_count": 3,
     "metadata": {},
     "output_type": "execute_result"
    }
   ],
   "source": [
    "フィボナッチ(3)"
   ]
  },
  {
   "cell_type": "code",
   "execution_count": 4,
   "metadata": {},
   "outputs": [
    {
     "name": "stdout",
     "output_type": "stream",
     "text": [
      "Help on function ラッパー in module __main__:\n",
      "\n",
      "ラッパー(*args, **kwargs)\n",
      "\n"
     ]
    }
   ],
   "source": [
    "# インナー関数を使っているため、help()がうまく表示されない\n",
    "help(フィボナッチ)"
   ]
  },
  {
   "cell_type": "code",
   "execution_count": 5,
   "metadata": {},
   "outputs": [],
   "source": [
    "from functools import wraps\n",
    "# functools組み込みモジュールのwrapsヘルパー関数を使うと解決できる\n",
    "def トレース(関数):\n",
    "    @wraps(関数)\n",
    "    def ラッパー(*args, **kwargs):\n",
    "        結果 = 関数(*args, **kwargs)\n",
    "        print(f\"{関数.__name__, args, kwargs, 結果}\")\n",
    "        return 結果\n",
    "    return ラッパー\n",
    "\n",
    "@トレース\n",
    "def フィボナッチ(n):\n",
    "    if n in (0, 1):\n",
    "        return n\n",
    "    return (フィボナッチ(n - 2 ) + フィボナッチ(n - 1))"
   ]
  },
  {
   "cell_type": "code",
   "execution_count": 6,
   "metadata": {},
   "outputs": [
    {
     "name": "stdout",
     "output_type": "stream",
     "text": [
      "Help on function フィボナッチ in module __main__:\n",
      "\n",
      "フィボナッチ(n)\n",
      "\n"
     ]
    }
   ],
   "source": [
    "help(フィボナッチ)"
   ]
  }
 ],
 "metadata": {
  "kernelspec": {
   "display_name": "Python 3",
   "language": "python",
   "name": "python3"
  },
  "language_info": {
   "codemirror_mode": {
    "name": "ipython",
    "version": 3
   },
   "file_extension": ".py",
   "mimetype": "text/x-python",
   "name": "python",
   "nbconvert_exporter": "python",
   "pygments_lexer": "ipython3",
   "version": "3.7.2"
  }
 },
 "nbformat": 4,
 "nbformat_minor": 4
}

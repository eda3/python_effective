{
 "cells": [
  {
   "cell_type": "code",
   "execution_count": 11,
   "metadata": {},
   "outputs": [],
   "source": [
    "from typing import AnyStr"
   ]
  },
  {
   "cell_type": "code",
   "execution_count": 12,
   "metadata": {},
   "outputs": [],
   "source": [
    "def to_str(bytes_or_str: AnyStr) -> str:\n",
    "    if isinstance(bytes_or_str, bytes):\n",
    "        print(\"bytesですよ！\")\n",
    "        value: str = bytes_or_str.decode(\"utf-8\")\n",
    "    else:\n",
    "        print('bytes以外ですよ！')\n",
    "        value: str = bytes_or_str\n",
    "    return value #strのインスタンス"
   ]
  },
  {
   "cell_type": "code",
   "execution_count": 13,
   "metadata": {},
   "outputs": [
    {
     "name": "stdout",
     "output_type": "stream",
     "text": [
      "bytes以外ですよ！\n",
      "changed_hoge_str: <class 'str'>\n"
     ]
    }
   ],
   "source": [
    "hoge_str: str = \"hogehoge\"\n",
    "changed_hoge_str: str = to_str(hoge_str)\n",
    "print(f\"changed_hoge_str: {type(changed_hoge_str)}\")"
   ]
  },
  {
   "cell_type": "code",
   "execution_count": 14,
   "metadata": {},
   "outputs": [],
   "source": [
    "def to_bytes(bytes_or_str: AnyStr) -> bytes:\n",
    "    if isinstance(bytes_or_str, str):\n",
    "        print(\"strですよ！\")\n",
    "        value: bytes = bytes_or_str.encode(\"utf-8\")\n",
    "    else:\n",
    "        print(\"str以外ですよ！\")\n",
    "        value: bytes = bytes_or_str\n",
    "    return value # bytesのインスタンス"
   ]
  },
  {
   "cell_type": "code",
   "execution_count": 15,
   "metadata": {},
   "outputs": [
    {
     "name": "stdout",
     "output_type": "stream",
     "text": [
      "strですよ！\n",
      "changed_hoge_bytes: <class 'bytes'>\n"
     ]
    }
   ],
   "source": [
    "hoge_bytes: bytes = \"hogehoge\"\n",
    "changed_hoge_bytes: bytes = to_bytes(hoge_bytes)\n",
    "print(f\"changed_hoge_bytes: {type(changed_hoge_bytes)}\")"
   ]
  }
 ],
 "metadata": {
  "kernelspec": {
   "display_name": "Python 3",
   "language": "python",
   "name": "python3"
  },
  "language_info": {
   "codemirror_mode": {
    "name": "ipython",
    "version": 3
   },
   "file_extension": ".py",
   "mimetype": "text/x-python",
   "name": "python",
   "nbconvert_exporter": "python",
   "pygments_lexer": "ipython3",
   "version": "3.7.2"
  }
 },
 "nbformat": 4,
 "nbformat_minor": 4
}
